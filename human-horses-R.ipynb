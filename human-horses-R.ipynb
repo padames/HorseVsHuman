{
 "cells": [
  {
   "cell_type": "markdown",
   "metadata": {},
   "source": [
    "# Create a naive convnet model to classify images of horses and humans\n",
    "The model of Francois Chollet will be used in this notebook as it appears in [J.J. Allaire. Deep Learning with R. Manning Publications, 2018. Web.](https://learning.oreilly.com/library/view/deep-learning-with/9781617295546/kindle_split_015.html)"
   ]
  },
  {
   "cell_type": "code",
   "execution_count": 1,
   "metadata": {},
   "outputs": [],
   "source": [
    "library(checkmate)"
   ]
  },
  {
   "cell_type": "code",
   "execution_count": 2,
   "metadata": {},
   "outputs": [],
   "source": [
    "cur.dir <- getwd()\n",
    "data.dir <- file.path(cur.dir, \"data\", \"original-train\")\n",
    "horses.dir <- file.path(data.dir, \"horses\")"
   ]
  },
  {
   "cell_type": "markdown",
   "metadata": {},
   "source": [
    "# Check to see if files have been downloaded\n",
    "Otherwise call the script that does it"
   ]
  },
  {
   "cell_type": "code",
   "execution_count": 3,
   "metadata": {},
   "outputs": [],
   "source": [
    "if (checkDirectoryExists(horses.dir) == TRUE) {\n",
    "  f.lst <- list.files(horses.dir) \n",
    "  if (length(f.lst) < 500)\n",
    "    source(\"wrangle-files.R\")\n",
    "}"
   ]
  },
  {
   "cell_type": "code",
   "execution_count": 4,
   "metadata": {},
   "outputs": [],
   "source": [
    "rm(data.dir, horses.dir)"
   ]
  },
  {
   "cell_type": "markdown",
   "metadata": {},
   "source": [
    "# Separate the data into train, validation and test"
   ]
  },
  {
   "cell_type": "code",
   "execution_count": 5,
   "metadata": {},
   "outputs": [],
   "source": [
    "data.horses.dir <- file.path(cur.dir, \"data\", \"all-horses\")\n",
    "\n",
    "if (checkDirectoryExists(data.horses.dir) == TRUE) {\n",
    "  f.lst <- list.files(data.horses.dir) \n",
    "  if (length(f.lst) < 628)\n",
    "    source(\"aggregate-files.R\")\n",
    "}"
   ]
  },
  {
   "cell_type": "code",
   "execution_count": 6,
   "metadata": {},
   "outputs": [],
   "source": [
    "rm(cur.dir, data.horses.dir)"
   ]
  },
  {
   "cell_type": "code",
   "execution_count": 7,
   "metadata": {},
   "outputs": [],
   "source": [
    "cur.dir <- getwd()\n",
    "train.horses.dir <- file.path(cur.dir, \"data\", \"train\", \"horses\")"
   ]
  },
  {
   "cell_type": "markdown",
   "metadata": {},
   "source": [
    "# Check to see if files have been aggregated\n",
    "Otherwise call the script that does it"
   ]
  },
  {
   "cell_type": "code",
   "execution_count": 9,
   "metadata": {},
   "outputs": [],
   "source": [
    "if (checkDirectoryExists(train.horses.dir) == TRUE) {\n",
    "  f.lst <- list.files(train.horses.dir) \n",
    "  if (length(f.lst) < 439)\n",
    "    source(\"split-files.R\")\n",
    "}\n",
    "rm(cur.dir,train.horses.dir)"
   ]
  },
  {
   "cell_type": "markdown",
   "metadata": {},
   "source": [
    "# Building the network using a seed to guarantee reproducible\n",
    "The latest Keras API implementation raises an error (shown below) when trying to set a seed for the session. Thus as of the date of this writing this is disabled. \n",
    "\n",
    "    Error in py_get_attr_impl(x, name, silent): AttributeError: module 'tensorflow_core.keras.backend' has no attribute 'set_session'"
   ]
  },
  {
   "cell_type": "code",
   "execution_count": 10,
   "metadata": {},
   "outputs": [],
   "source": [
    "library(keras)\n",
    "keras::k_clear_session()\n",
    "#use_session_with_seed(seed = 2941, disable_gpu = TRUE)"
   ]
  },
  {
   "cell_type": "code",
   "execution_count": 11,
   "metadata": {},
   "outputs": [
    {
     "name": "stdout",
     "output_type": "stream",
     "text": [
      "Model: \"sequential\"\n",
      "________________________________________________________________________________\n",
      "Layer (type)                        Output Shape                    Param #     \n",
      "================================================================================\n",
      "conv2d (Conv2D)                     (None, 298, 298, 32)            896         \n",
      "________________________________________________________________________________\n",
      "max_pooling2d (MaxPooling2D)        (None, 149, 149, 32)            0           \n",
      "________________________________________________________________________________\n",
      "conv2d_1 (Conv2D)                   (None, 147, 147, 64)            18496       \n",
      "________________________________________________________________________________\n",
      "max_pooling2d_1 (MaxPooling2D)      (None, 73, 73, 64)              0           \n",
      "________________________________________________________________________________\n",
      "conv2d_2 (Conv2D)                   (None, 71, 71, 128)             73856       \n",
      "________________________________________________________________________________\n",
      "max_pooling2d_2 (MaxPooling2D)      (None, 35, 35, 128)             0           \n",
      "________________________________________________________________________________\n",
      "conv2d_3 (Conv2D)                   (None, 33, 33, 128)             147584      \n",
      "________________________________________________________________________________\n",
      "max_pooling2d_3 (MaxPooling2D)      (None, 16, 16, 128)             0           \n",
      "________________________________________________________________________________\n",
      "flatten (Flatten)                   (None, 32768)                   0           \n",
      "________________________________________________________________________________\n",
      "dense (Dense)                       (None, 512)                     16777728    \n",
      "________________________________________________________________________________\n",
      "dense_1 (Dense)                     (None, 1)                       513         \n",
      "================================================================================\n",
      "Total params: 17,019,073\n",
      "Trainable params: 17,019,073\n",
      "Non-trainable params: 0\n",
      "________________________________________________________________________________\n"
     ]
    }
   ],
   "source": [
    "model <- keras_model_sequential() %>%\n",
    "  layer_conv_2d(filters = 32, kernel_size = c(3, 3), activation = \"relu\",                \n",
    "                input_shape = c(300, 300, 3)) %>%  \n",
    "  layer_max_pooling_2d(pool_size = c(2, 2)) %>%  \n",
    "  layer_conv_2d(filters = 64, kernel_size = c(3, 3), activation = \"relu\") %>%  \n",
    "  layer_max_pooling_2d(pool_size = c(2, 2)) %>%  \n",
    "  layer_conv_2d(filters = 128, kernel_size = c(3, 3), activation = \"relu\") %>%  \n",
    "  layer_max_pooling_2d(pool_size = c(2, 2)) %>%  \n",
    "  layer_conv_2d(filters = 128, kernel_size = c(3, 3), activation = \"relu\") %>%  \n",
    "  layer_max_pooling_2d(pool_size = c(2, 2)) %>%  \n",
    "  layer_flatten() %>%  \n",
    "  layer_dense(units = 512, activation = \"relu\") %>%  \n",
    "  layer_dense(units = 1, activation = \"sigmoid\")\n",
    "\n",
    "summary(model)"
   ]
  },
  {
   "cell_type": "markdown",
   "metadata": {},
   "source": [
    "Compile the model."
   ]
  },
  {
   "cell_type": "code",
   "execution_count": 12,
   "metadata": {},
   "outputs": [],
   "source": [
    "model %>% compile(  loss = \"binary_crossentropy\",  \n",
    "                    optimizer = optimizer_rmsprop(lr = 1e-4),  \n",
    "                    metrics = c(\"acc\"))\n"
   ]
  },
  {
   "cell_type": "markdown",
   "metadata": {},
   "source": [
    "Prepare the scaling and create the generator to call the model fit Keras API."
   ]
  },
  {
   "cell_type": "code",
   "execution_count": 13,
   "metadata": {},
   "outputs": [],
   "source": [
    "train_datagen <- image_data_generator(rescale = 1/255)\n",
    "validation_datagen <- image_data_generator(rescale = 1/255)\n",
    "\n",
    "cur.dir <- getwd()\n",
    "\n",
    "train_generator <- flow_images_from_directory(  file.path(cur.dir, \"data\", \"train\"),\n",
    "                                                generator = train_datagen,           \n",
    "                                                target_size = c(300, 300), \n",
    "                                                batch_size = 20,\n",
    "                                                color_mode = \"rgb\",\n",
    "                                                class_mode = \"binary\")\n",
    "\n",
    "validation_generator <- flow_images_from_directory(  file.path(cur.dir, \"data\", \"validation\"),\n",
    "                                                     generator = validation_datagen,\n",
    "                                                     target_size = c(300, 300),  \n",
    "                                                     batch_size = 20,  \n",
    "                                                     color_mode = \"rgb\",\n",
    "                                                     class_mode = \"binary\")\n"
   ]
  },
  {
   "cell_type": "markdown",
   "metadata": {},
   "source": [
    "# Train the model using generators"
   ]
  },
  {
   "cell_type": "code",
   "execution_count": 14,
   "metadata": {},
   "outputs": [],
   "source": [
    "history <- model %>% fit_generator(  train_generator,  \n",
    "                                     steps_per_epoch = 50,  \n",
    "                                     epochs = 10,  \n",
    "                                     validation_data = validation_generator,\n",
    "                                     validation_steps = 10)\n"
   ]
  },
  {
   "cell_type": "markdown",
   "metadata": {},
   "source": [
    "# Save the model and weights"
   ]
  },
  {
   "cell_type": "code",
   "execution_count": 16,
   "metadata": {},
   "outputs": [],
   "source": [
    "models.dir <- file.path(cur.dir, \"models\")\n",
    "model.weights.dir <- file.path(cur.dir, \"model-weights\")\n",
    "\n",
    "# do a check to see if the modeld directory exists\n",
    "if (checkDirectoryExists(models.dir) != TRUE) {\n",
    "  dir.create(models.dir)\n",
    "}\n",
    "\n",
    "if (checkDirectoryExists(model.weights.dir) != TRUE) {\n",
    "  dir.create(model.weights.dir)\n",
    "}"
   ]
  },
  {
   "cell_type": "code",
   "execution_count": 17,
   "metadata": {},
   "outputs": [],
   "source": [
    "model %>% save_model_hdf5(file.path(models.dir, \"horses_vs_humans_2.h5\"))\n",
    "model %>% save_model_weights_hdf5(file.path(model.weights.dir, \"horses_vs_humans_wgts_2.h5\"))"
   ]
  },
  {
   "cell_type": "markdown",
   "metadata": {},
   "source": [
    "# Plot the training history with validation"
   ]
  },
  {
   "cell_type": "code",
   "execution_count": 19,
   "metadata": {},
   "outputs": [
    {
     "name": "stderr",
     "output_type": "stream",
     "text": [
      "`geom_smooth()` using formula 'y ~ x'\n",
      "\n"
     ]
    },
    {
     "data": {
      "image/png": "[encoded data removed]",
      "text/plain": [
       "plot without title"
      ]
     },
     "metadata": {
      "image/png": {
       "height": 420,
       "width": 420
      },
      "text/plain": {
       "height": 420,
       "width": 420
      }
     },
     "output_type": "display_data"
    }
   ],
   "source": [
    "plot(history)"
   ]
  },
  {
   "cell_type": "code",
   "execution_count": 1,
   "metadata": {},
   "outputs": [
    {
     "data": {
      "text/plain": [
       "Trained on 50 samples (batch_size=NULL, epochs=10)\n",
       "Final epoch (plot to see history):\n",
       "    loss: 0.007124\n",
       "     acc: 0.997\n",
       "val_loss: 0.009051\n",
       " val_acc: 0.9948 "
      ]
     },
     "metadata": {},
     "output_type": "display_data"
    }
   ],
   "source": [
    "history"
   ]
  },
  {
   "cell_type": "markdown",
   "metadata": {},
   "source": [
    "## Evaluating results on the test set"
   ]
  },
  {
   "cell_type": "code",
   "execution_count": 3,
   "metadata": {
    "scrolled": false
   },
   "outputs": [
    {
     "name": "stdout",
     "output_type": "stream",
     "text": [
      "Model: \"sequential\"\n",
      "________________________________________________________________________________\n",
      "Layer (type)                        Output Shape                    Param #     \n",
      "================================================================================\n",
      "conv2d (Conv2D)                     (None, 298, 298, 32)            896         \n",
      "________________________________________________________________________________\n",
      "max_pooling2d (MaxPooling2D)        (None, 149, 149, 32)            0           \n",
      "________________________________________________________________________________\n",
      "conv2d_1 (Conv2D)                   (None, 147, 147, 64)            18496       \n",
      "________________________________________________________________________________\n",
      "max_pooling2d_1 (MaxPooling2D)      (None, 73, 73, 64)              0           \n",
      "________________________________________________________________________________\n",
      "conv2d_2 (Conv2D)                   (None, 71, 71, 128)             73856       \n",
      "________________________________________________________________________________\n",
      "max_pooling2d_2 (MaxPooling2D)      (None, 35, 35, 128)             0           \n",
      "________________________________________________________________________________\n",
      "conv2d_3 (Conv2D)                   (None, 33, 33, 128)             147584      \n",
      "________________________________________________________________________________\n",
      "max_pooling2d_3 (MaxPooling2D)      (None, 16, 16, 128)             0           \n",
      "________________________________________________________________________________\n",
      "flatten (Flatten)                   (None, 32768)                   0           \n",
      "________________________________________________________________________________\n",
      "dense (Dense)                       (None, 512)                     16777728    \n",
      "________________________________________________________________________________\n",
      "dense_1 (Dense)                     (None, 1)                       513         \n",
      "================================================================================\n",
      "Total params: 17,019,073\n",
      "Trainable params: 17,019,073\n",
      "Non-trainable params: 0\n",
      "________________________________________________________________________________\n",
      "Model: \"sequential\"\n",
      "________________________________________________________________________________\n",
      "Layer (type)                        Output Shape                    Param #     \n",
      "================================================================================\n",
      "conv2d (Conv2D)                     (None, 298, 298, 32)            896         \n",
      "________________________________________________________________________________\n",
      "max_pooling2d (MaxPooling2D)        (None, 149, 149, 32)            0           \n",
      "________________________________________________________________________________\n",
      "conv2d_1 (Conv2D)                   (None, 147, 147, 64)            18496       \n",
      "________________________________________________________________________________\n",
      "max_pooling2d_1 (MaxPooling2D)      (None, 73, 73, 64)              0           \n",
      "________________________________________________________________________________\n",
      "conv2d_2 (Conv2D)                   (None, 71, 71, 128)             73856       \n",
      "________________________________________________________________________________\n",
      "max_pooling2d_2 (MaxPooling2D)      (None, 35, 35, 128)             0           \n",
      "________________________________________________________________________________\n",
      "conv2d_3 (Conv2D)                   (None, 33, 33, 128)             147584      \n",
      "________________________________________________________________________________\n",
      "max_pooling2d_3 (MaxPooling2D)      (None, 16, 16, 128)             0           \n",
      "________________________________________________________________________________\n",
      "flatten (Flatten)                   (None, 32768)                   0           \n",
      "________________________________________________________________________________\n",
      "dense (Dense)                       (None, 512)                     16777728    \n",
      "________________________________________________________________________________\n",
      "dense_1 (Dense)                     (None, 1)                       513         \n",
      "================================================================================\n",
      "Total params: 17,019,073\n",
      "Trainable params: 17,019,073\n",
      "Non-trainable params: 0\n",
      "________________________________________________________________________________\n",
      "Model: \"sequential\"\n",
      "________________________________________________________________________________\n",
      "Layer (type)                        Output Shape                    Param #     \n",
      "================================================================================\n",
      "conv2d (Conv2D)                     (None, 298, 298, 16)            448         \n",
      "________________________________________________________________________________\n",
      "conv2d_1 (Conv2D)                   (None, 296, 296, 32)            4640        \n",
      "________________________________________________________________________________\n",
      "max_pooling2d (MaxPooling2D)        (None, 148, 148, 32)            0           \n",
      "________________________________________________________________________________\n",
      "conv2d_2 (Conv2D)                   (None, 146, 146, 64)            18496       \n",
      "________________________________________________________________________________\n",
      "max_pooling2d_1 (MaxPooling2D)      (None, 73, 73, 64)              0           \n",
      "________________________________________________________________________________\n",
      "conv2d_3 (Conv2D)                   (None, 71, 71, 64)              36928       \n",
      "________________________________________________________________________________\n",
      "max_pooling2d_2 (MaxPooling2D)      (None, 35, 35, 64)              0           \n",
      "________________________________________________________________________________\n",
      "conv2d_4 (Conv2D)                   (None, 33, 33, 64)              36928       \n",
      "________________________________________________________________________________\n",
      "max_pooling2d_3 (MaxPooling2D)      (None, 16, 16, 64)              0           \n",
      "________________________________________________________________________________\n",
      "flatten (Flatten)                   (None, 16384)                   0           \n",
      "________________________________________________________________________________\n",
      "dense (Dense)                       (None, 512)                     8389120     \n",
      "________________________________________________________________________________\n",
      "dense_1 (Dense)                     (None, 1)                       513         \n",
      "================================================================================\n",
      "Total params: 8,487,073\n",
      "Trainable params: 8,487,073\n",
      "Non-trainable params: 0\n",
      "________________________________________________________________________________\n",
      "Model: \"sequential\"\n",
      "________________________________________________________________________________\n",
      "Layer (type)                        Output Shape                    Param #     \n",
      "================================================================================\n",
      "conv2d (Conv2D)                     (None, 298, 298, 16)            448         \n",
      "________________________________________________________________________________\n",
      "conv2d_1 (Conv2D)                   (None, 296, 296, 32)            4640        \n",
      "________________________________________________________________________________\n",
      "max_pooling2d (MaxPooling2D)        (None, 148, 148, 32)            0           \n",
      "________________________________________________________________________________\n",
      "conv2d_2 (Conv2D)                   (None, 146, 146, 64)            18496       \n",
      "________________________________________________________________________________\n",
      "max_pooling2d_1 (MaxPooling2D)      (None, 73, 73, 64)              0           \n",
      "________________________________________________________________________________\n",
      "conv2d_3 (Conv2D)                   (None, 71, 71, 64)              36928       \n",
      "________________________________________________________________________________\n",
      "max_pooling2d_2 (MaxPooling2D)      (None, 35, 35, 64)              0           \n",
      "________________________________________________________________________________\n",
      "conv2d_4 (Conv2D)                   (None, 33, 33, 64)              36928       \n",
      "________________________________________________________________________________\n",
      "max_pooling2d_3 (MaxPooling2D)      (None, 16, 16, 64)              0           \n",
      "________________________________________________________________________________\n",
      "flatten (Flatten)                   (None, 16384)                   0           \n",
      "________________________________________________________________________________\n",
      "dense (Dense)                       (None, 512)                     8389120     \n",
      "________________________________________________________________________________\n",
      "dense_1 (Dense)                     (None, 1)                       513         \n",
      "================================================================================\n",
      "Total params: 8,487,073\n",
      "Trainable params: 8,487,073\n",
      "Non-trainable params: 0\n",
      "________________________________________________________________________________\n"
     ]
    }
   ],
   "source": [
    "library(keras)\n",
    "test.human.dir <- file.path(cur.dir, \"data\", \"test\", \"humans\")\n",
    "test.horse.dir <- file.path(cur.dir,  \"data\", \"test\", \"horses\")\n",
    "\n",
    "# load the model in a loop\n",
    "# https://tensorflow.rstudio.com/tutorials/beginners/basic-ml/tutorial_save_and_restore/\n",
    "\n",
    "results <- list(loss=c(), acc=c())\n",
    "test.dir <- file.path(cur.dir, \"data\", \"test\")\n",
    "# test.dir <- file.path(cur.dir, \"data\", \"original-test\")\n",
    "\n",
    "models.fnames <- list.files(models.dir)\n",
    "models.fnames <- paste0(file.path(models.dir, models.fnames))\n",
    "for (i in 1:length(models.fnames)) {\n",
    "  model <- load_model_hdf5(models.fnames[[i]])\n",
    "  summary(model)\n",
    "  test_datagen <- image_data_generator(rescale = 1/255)\n",
    "  test_generator <- flow_images_from_directory(\n",
    "    test.dir,\n",
    "    test_datagen,\n",
    "    target_size = c(300,300),\n",
    "    batch_size = 20,\n",
    "    class_mode = \"binary\"\n",
    "  )\n",
    "  models.results <- model %>% evaluate_generator( test_generator, steps = 50)\n",
    "  results$loss <- c(results$loss, models.results$loss)\n",
    "  results$acc <- c(results$acc, models.results$acc)\n",
    "}"
   ]
  },
  {
   "cell_type": "code",
   "execution_count": 4,
   "metadata": {},
   "outputs": [
    {
     "data": {
      "text/html": [
       "<dl>\n",
       "\t<dt>$loss</dt>\n",
       "\t\t<dd><style>\n",
       ".list-inline {list-style: none; margin:0; padding: 0}\n",
       ".list-inline>li {display: inline-block}\n",
       ".list-inline>li:not(:last-child)::after {content: \"\\00b7\"; padding: 0 .5ex}\n",
       "</style>\n",
       "<ol class=list-inline><li>0.0320735029393109</li><li>0.0455388788529672</li><li>0.0801790374622215</li><li>0.0384783185308333</li></ol>\n",
       "</dd>\n",
       "\t<dt>$acc</dt>\n",
       "\t\t<dd><style>\n",
       ".list-inline {list-style: none; margin:0; padding: 0}\n",
       ".list-inline>li {display: inline-block}\n",
       ".list-inline>li:not(:last-child)::after {content: \"\\00b7\"; padding: 0 .5ex}\n",
       "</style>\n",
       "<ol class=list-inline><li>0.989690721035004</li><li>0.979381442070007</li><li>0.969072163105011</li><li>0.984536111354828</li></ol>\n",
       "</dd>\n",
       "</dl>\n"
      ],
      "text/latex": [
       "\\begin{description}\n",
       "\\item[\\$loss] \\begin{enumerate*}\n",
       "\\item 0.0320735029393109\n",
       "\\item 0.0455388788529672\n",
       "\\item 0.0801790374622215\n",
       "\\item 0.0384783185308333\n",
       "\\end{enumerate*}\n",
       "\n",
       "\\item[\\$acc] \\begin{enumerate*}\n",
       "\\item 0.989690721035004\n",
       "\\item 0.979381442070007\n",
       "\\item 0.969072163105011\n",
       "\\item 0.984536111354828\n",
       "\\end{enumerate*}\n",
       "\n",
       "\\end{description}\n"
      ],
      "text/markdown": [
       "$loss\n",
       ":   1. 0.0320735029393109\n",
       "2. 0.0455388788529672\n",
       "3. 0.0801790374622215\n",
       "4. 0.0384783185308333\n",
       "\n",
       "\n",
       "\n",
       "$acc\n",
       ":   1. 0.989690721035004\n",
       "2. 0.979381442070007\n",
       "3. 0.969072163105011\n",
       "4. 0.984536111354828\n",
       "\n",
       "\n",
       "\n",
       "\n",
       "\n"
      ],
      "text/plain": [
       "$loss\n",
       "[1] 0.03207350 0.04553888 0.08017904 0.03847832\n",
       "\n",
       "$acc\n",
       "[1] 0.9896907 0.9793814 0.9690722 0.9845361\n"
      ]
     },
     "metadata": {},
     "output_type": "display_data"
    }
   ],
   "source": [
    "# There were two versions of the Chollet model and two of the Google Colab tutorial\n",
    "# Only the weight for the last two versions were saved, so they will be used for the report.\n",
    "results"
   ]
  }
 ],
 "metadata": {
  "kernelspec": {
   "display_name": "R",
   "language": "R",
   "name": "ir"
  },
  "language_info": {
   "codemirror_mode": "r",
   "file_extension": ".r",
   "mimetype": "text/x-r-source",
   "name": "R",
   "pygments_lexer": "r",
   "version": "3.6.3"
  }
 },
 "nbformat": 4,
 "nbformat_minor": 4
}

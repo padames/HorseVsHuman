{
 "cells": [
  {
   "cell_type": "markdown",
   "metadata": {},
   "source": [
    "# Create a naive convnet model to classify images of horses and humans\n",
    "The model used in this notebook is the same used in the Google Colab notebook as it appears in [Course 1 - Part 8 - Lesson 2](https://colab.research.google.com/github/lmoroney/dlaicourse/blob/master/Course%201%20-%20Part%208%20-%20Lesson%202%20-%20Notebook.ipynb#scrollTo=rX8mhOLljYeM)"
   ]
  },
  {
   "cell_type": "code",
   "execution_count": 1,
   "metadata": {},
   "outputs": [],
   "source": [
    "library(checkmate)"
   ]
  },
  {
   "cell_type": "code",
   "execution_count": 2,
   "metadata": {},
   "outputs": [],
   "source": [
    "cur.dir <- getwd()\n",
    "data.dir <- file.path(cur.dir, \"data\", \"original-train\")\n",
    "horses.dir <- file.path(data.dir, \"horses\")"
   ]
  },
  {
   "cell_type": "markdown",
   "metadata": {},
   "source": [
    "# Check to see if files have been downloaded\n",
    "Otherwise call the script that does it"
   ]
  },
  {
   "cell_type": "code",
   "execution_count": 3,
   "metadata": {},
   "outputs": [],
   "source": [
    "if (checkDirectoryExists(horses.dir) == TRUE) {\n",
    "  f.lst <- list.files(horses.dir) \n",
    "  if (length(f.lst) < 500)\n",
    "    source(\"wrangle-files.R\")\n",
    "}"
   ]
  },
  {
   "cell_type": "code",
   "execution_count": 4,
   "metadata": {},
   "outputs": [],
   "source": [
    "rm(data.dir, horses.dir)"
   ]
  },
  {
   "cell_type": "markdown",
   "metadata": {},
   "source": [
    "# Separate the data into train, validation and test"
   ]
  },
  {
   "cell_type": "code",
   "execution_count": 5,
   "metadata": {},
   "outputs": [],
   "source": [
    "data.horses.dir <- file.path(cur.dir, \"data\", \"all-horses\")\n",
    "\n",
    "if (checkDirectoryExists(data.horses.dir) == TRUE) {\n",
    "  f.lst <- list.files(data.horses.dir) \n",
    "  if (length(f.lst) < 628)\n",
    "    source(\"aggregate-files.R\")\n",
    "}"
   ]
  },
  {
   "cell_type": "code",
   "execution_count": 6,
   "metadata": {},
   "outputs": [],
   "source": [
    "rm(cur.dir, data.horses.dir)"
   ]
  },
  {
   "cell_type": "code",
   "execution_count": 7,
   "metadata": {},
   "outputs": [],
   "source": [
    "cur.dir <- getwd()\n",
    "train.horses.dir <- file.path(cur.dir, \"data\", \"train\", \"horses\")"
   ]
  },
  {
   "cell_type": "markdown",
   "metadata": {},
   "source": [
    "# Check to see if files have been aggregated\n",
    "Otherwise call the script that does it"
   ]
  },
  {
   "cell_type": "code",
   "execution_count": 8,
   "metadata": {},
   "outputs": [],
   "source": [
    "if (checkDirectoryExists(train.horses.dir) == TRUE) {\n",
    "  f.lst <- list.files(train.horses.dir) \n",
    "  if (length(f.lst) < 439)\n",
    "    source(\"split-files.R\")\n",
    "}\n",
    "rm(cur.dir,train.horses.dir)"
   ]
  },
  {
   "cell_type": "markdown",
   "metadata": {},
   "source": [
    "# Building the network using a seed to guarantee reproducible\n",
    "The latest Keras API implementation raises an error (shown below) when trying to set a seed for the session. Thus as of the date of this writing this is disabled. \n",
    "\n",
    "    Error in py_get_attr_impl(x, name, silent): AttributeError: module 'tensorflow_core.keras.backend' has no attribute 'set_session'"
   ]
  },
  {
   "cell_type": "code",
   "execution_count": 9,
   "metadata": {},
   "outputs": [],
   "source": [
    "library(keras)\n",
    "keras::k_clear_session()\n",
    "#use_session_with_seed(seed = 2941, disable_gpu = TRUE)"
   ]
  },
  {
   "cell_type": "code",
   "execution_count": 10,
   "metadata": {},
   "outputs": [
    {
     "name": "stdout",
     "output_type": "stream",
     "text": [
      "Model: \"sequential\"\n",
      "________________________________________________________________________________\n",
      "Layer (type)                        Output Shape                    Param #     \n",
      "================================================================================\n",
      "conv2d (Conv2D)                     (None, 298, 298, 16)            448         \n",
      "________________________________________________________________________________\n",
      "conv2d_1 (Conv2D)                   (None, 296, 296, 32)            4640        \n",
      "________________________________________________________________________________\n",
      "max_pooling2d (MaxPooling2D)        (None, 148, 148, 32)            0           \n",
      "________________________________________________________________________________\n",
      "conv2d_2 (Conv2D)                   (None, 146, 146, 64)            18496       \n",
      "________________________________________________________________________________\n",
      "max_pooling2d_1 (MaxPooling2D)      (None, 73, 73, 64)              0           \n",
      "________________________________________________________________________________\n",
      "conv2d_3 (Conv2D)                   (None, 71, 71, 64)              36928       \n",
      "________________________________________________________________________________\n",
      "max_pooling2d_2 (MaxPooling2D)      (None, 35, 35, 64)              0           \n",
      "________________________________________________________________________________\n",
      "conv2d_4 (Conv2D)                   (None, 33, 33, 64)              36928       \n",
      "________________________________________________________________________________\n",
      "max_pooling2d_3 (MaxPooling2D)      (None, 16, 16, 64)              0           \n",
      "________________________________________________________________________________\n",
      "flatten (Flatten)                   (None, 16384)                   0           \n",
      "________________________________________________________________________________\n",
      "dense (Dense)                       (None, 512)                     8389120     \n",
      "________________________________________________________________________________\n",
      "dense_1 (Dense)                     (None, 1)                       513         \n",
      "================================================================================\n",
      "Total params: 8,487,073\n",
      "Trainable params: 8,487,073\n",
      "Non-trainable params: 0\n",
      "________________________________________________________________________________\n"
     ]
    }
   ],
   "source": [
    "model <- keras_model_sequential() %>%\n",
    "  layer_conv_2d(filters = 16, kernel_size = c(3, 3), activation = \"relu\",                \n",
    "                input_shape = c(300, 300, 3)) %>%  \n",
    "  layer_conv_2d(filters = 32, kernel_size = c(3, 3), activation = \"relu\",                \n",
    "                input_shape = c(300, 300, 3)) %>%  \n",
    "  layer_max_pooling_2d(pool_size = c(2, 2)) %>%  \n",
    "  layer_conv_2d(filters = 64, kernel_size = c(3, 3), activation = \"relu\") %>%  \n",
    "  layer_max_pooling_2d(pool_size = c(2, 2)) %>%  \n",
    "  layer_conv_2d(filters = 64, kernel_size = c(3, 3), activation = \"relu\") %>%  \n",
    "  layer_max_pooling_2d(pool_size = c(2, 2)) %>%  \n",
    "  layer_conv_2d(filters = 64, kernel_size = c(3, 3), activation = \"relu\") %>%  \n",
    "  layer_max_pooling_2d(pool_size = c(2, 2)) %>%  \n",
    "  layer_flatten() %>%  \n",
    "  layer_dense(units = 512, activation = \"relu\") %>%  \n",
    "  layer_dense(units = 1, activation = \"sigmoid\")\n",
    "\n",
    "summary(model)"
   ]
  },
  {
   "cell_type": "markdown",
   "metadata": {},
   "source": [
    "Compile the model."
   ]
  },
  {
   "cell_type": "code",
   "execution_count": 11,
   "metadata": {},
   "outputs": [],
   "source": [
    "model %>% compile(  loss = \"binary_crossentropy\",  \n",
    "                    optimizer = optimizer_rmsprop(lr = 1e-4),  \n",
    "                    metrics = c(\"acc\"))\n"
   ]
  },
  {
   "cell_type": "markdown",
   "metadata": {},
   "source": [
    "Prepare the scaling and create the generator to call the model fit Keras API."
   ]
  },
  {
   "cell_type": "code",
   "execution_count": 12,
   "metadata": {},
   "outputs": [],
   "source": [
    "train_datagen <- image_data_generator(rescale = 1/255)\n",
    "validation_datagen <- image_data_generator(rescale = 1/255)\n",
    "\n",
    "cur.dir <- getwd()\n",
    "\n",
    "train_generator <- flow_images_from_directory(  file.path(cur.dir, \"data\", \"train\"),\n",
    "                                                generator = train_datagen,         99  \n",
    "                                                target_size = c(300, 300), \n",
    "                                                batch_size = 20,\n",
    "                                                color_mode = \"rgb\",\n",
    "                                                class_mode = \"binary\")\n",
    "\n",
    "validation_generator <- flow_images_from_directory(  file.path(cur.dir, \"data\", \"validation\"),\n",
    "                                                     generator = validation_datagen,\n",
    "                                                     target_size = c(300, 300),  \n",
    "                                                     batch_size = 20,  \n",
    "                                                     color_mode = \"rgb\",\n",
    "                                                     class_mode = \"binary\")\n"
   ]
  },
  {
   "cell_type": "markdown",
   "metadata": {},
   "source": [
    "# Train the model using generators"
   ]
  },
  {
   "cell_type": "code",
   "execution_count": 13,
   "metadata": {},
   "outputs": [],
   "source": [
    "history <- model %>% fit_generator(  train_generator,  \n",
    "                                     steps_per_epoch = 50,  \n",
    "                                     epochs = 10,  \n",
    "                                     validation_data = validation_generator,\n",
    "                                     validation_steps = 10)\n"
   ]
  },
  {
   "cell_type": "markdown",
   "metadata": {},
   "source": [
    "# Save the model and weights"
   ]
  },
  {
   "cell_type": "code",
   "execution_count": 14,
   "metadata": {},
   "outputs": [],
   "source": [
    "models.dir <- file.path(cur.dir, \"models\")\n",
    "model.weights.dir <- file.path(cur.dir, \"model-weights\")\n",
    "\n",
    "# do a check to see if the modeld directory exists\n",
    "if (checkDirectoryExists(models.dir) != TRUE) {\n",
    "  dir.create(models.dir)\n",
    "}\n",
    "\n",
    "if (checkDirectoryExists(model.weights.dir) != TRUE) {\n",
    "  dir.create(model.weights.dir)\n",
    "}"
   ]
  },
  {
   "cell_type": "code",
   "execution_count": 17,
   "metadata": {},
   "outputs": [],
   "source": [
    "model %>% save_model_hdf5(file.path(models.dir, \"horses_vs_humans_Moroney2.h5\"))\n",
    "model %>% save_model_weights_hdf5(file.path(model.weights.dir, \"horses_vs_humans_wgts_Moroney2.h5\"))"
   ]
  },
  {
   "cell_type": "markdown",
   "metadata": {},
   "source": [
    "# Plot the training history with validation"
   ]
  },
  {
   "cell_type": "code",
   "execution_count": 16,
   "metadata": {},
   "outputs": [
    {
     "name": "stderr",
     "output_type": "stream",
     "text": [
      "`geom_smooth()` using formula 'y ~ x'\n",
      "\n"
     ]
    },
    {
     "data": {
      "image/png": "[encoded data removed]",
      "text/plain": [
       "plot without title"
      ]
     },
     "metadata": {
      "image/png": {
       "height": 420,
       "width": 420
      },
      "text/plain": {
       "height": 420,
       "width": 420
      }
     },
     "output_type": "display_data"
    }
   ],
   "source": [
    "plot(history)"
   ]
  },
  {
   "cell_type": "code",
   "execution_count": 20,
   "metadata": {},
   "outputs": [
    {
     "name": "stderr",
     "output_type": "stream",
     "text": [
      "`geom_smooth()` using formula 'y ~ x'\n",
      "\n"
     ]
    },
    {
     "data": {
      "text/html": [
       "<strong>png:</strong> 2"
      ],
      "text/latex": [
       "\\textbf{png:} 2"
      ],
      "text/markdown": [
       "**png:** 2"
      ],
      "text/plain": [
       "png \n",
       "  2 "
      ]
     },
     "metadata": {},
     "output_type": "display_data"
    }
   ],
   "source": [
    "pdf(\"images/horses-humans-maroney2-acc-loss_.pdf\", width = 8.03, height = 5.15748, paper = \"special\")\n",
    "plot(history)\n",
    "dev.off()"
   ]
  },
  {
   "cell_type": "code",
   "execution_count": 18,
   "metadata": {},
   "outputs": [
    {
     "data": {
      "text/plain": [
       "Trained on 50 samples (batch_size=NULL, epochs=10)\n",
       "Final epoch (plot to see history):\n",
       "    loss: 0.007684\n",
       "     acc: 0.998\n",
       "val_loss: 0.01899\n",
       " val_acc: 0.9948 "
      ]
     },
     "metadata": {},
     "output_type": "display_data"
    }
   ],
   "source": [
    "history"
   ]
  },
  {
   "cell_type": "markdown",
   "metadata": {},
   "source": [
    "## Evaluating results on the test set"
   ]
  },
  {
   "cell_type": "code",
   "execution_count": null,
   "metadata": {},
   "outputs": [],
   "source": [
    "library(keras)\n",
    "test.human.dir <- file.path(cur.dir, \"data\", \"test\", \"humans\")\n",
    "test.horse.dir <- file.path(cur.dir,  \"data\", \"test\", \"horses\")\n",
    "\n",
    "# load the model in a loop\n",
    "# https://tensorflow.rstudio.com/tutorials/beginners/basic-ml/tutorial_save_and_restore/\n",
    "\n",
    "results <- list(loss=c(), acc=c())\n",
    "test.dir <- file.path(cur.dir, \"data\", \"test\")\n",
    "# test.dir <- file.path(cur.dir, \"data\", \"original-test\")\n",
    "\n",
    "models.fnames <- list.files(models.dir)\n",
    "models.fnames <- paste0(file.path(models.dir, models.fnames))\n",
    "for (i in 1:length(models.fnames)) {\n",
    "  model <- load_model_hdf5(models.fnames[[i]])\n",
    "  summary(model)\n",
    "  test_datagen <- image_data_generator(rescale = 1/255)\n",
    "  test_generator <- flow_images_from_directory(\n",
    "    test.dir,\n",
    "    test_datagen,\n",
    "    target_size = c(300,300),\n",
    "    batch_size = 20,\n",
    "    class_mode = \"binary\"\n",
    "  )\n",
    "  models.results <- model %>% evaluate_generator( test_generator, steps = 50)\n",
    "  results$loss <- c(results$loss, models.results$loss)\n",
    "  results$acc <- c(results$acc, models.results$acc)\n",
    "}"
   ]
  },
  {
   "cell_type": "code",
   "execution_count": null,
   "metadata": {},
   "outputs": [],
   "source": [
    "results"
   ]
  }
 ],
 "metadata": {
  "kernelspec": {
   "display_name": "R",
   "language": "R",
   "name": "ir"
  },
  "language_info": {
   "codemirror_mode": "r",
   "file_extension": ".r",
   "mimetype": "text/x-r-source",
   "name": "R",
   "pygments_lexer": "r",
   "version": "3.6.3"
  }
 },
 "nbformat": 4,
 "nbformat_minor": 4
}
